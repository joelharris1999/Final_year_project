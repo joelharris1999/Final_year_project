{
 "cells": [
  {
   "cell_type": "markdown",
   "metadata": {},
   "source": [
    "# 1999 - 2008 data"
   ]
  },
  {
   "cell_type": "code",
   "execution_count": 1,
   "metadata": {},
   "outputs": [],
   "source": [
    "import pandas as pd"
   ]
  },
  {
   "cell_type": "code",
   "execution_count": 113,
   "metadata": {},
   "outputs": [
    {
     "name": "stderr",
     "output_type": "stream",
     "text": [
      "C:\\Users\\joel\\Anaconda3\\lib\\site-packages\\IPython\\core\\interactiveshell.py:2785: DtypeWarning: Columns (0,12) have mixed types. Specify dtype option on import or set low_memory=False.\n",
      "  interactivity=interactivity, compiler=compiler, result=result)\n"
     ]
    }
   ],
   "source": [
    "LHB99 = pd.read_csv('LHB provider 99.csv')\n",
    "LHB00 = pd.read_csv('LHB provider 00.csv')\n",
    "LHB01 = pd.read_csv('LHB provider 01.csv')\n",
    "LHB02 = pd.read_csv('LHB provider 02.csv')\n",
    "LHB03 = pd.read_csv('LHB provider 03.csv')\n",
    "LHB04 = pd.read_csv('LHB provider 04.csv')\n",
    "LHB05 = pd.read_csv('LHB provider 05.csv')\n",
    "LHB06 = pd.read_csv('LHB provider 06.csv')\n",
    "LHB07 = pd.read_csv('LHB provider 07.csv')\n",
    "LHB08 = pd.read_csv('LHB provider 08.csv')"
   ]
  },
  {
   "cell_type": "code",
   "execution_count": 114,
   "metadata": {},
   "outputs": [],
   "source": [
    "LHB06 = LHB06.rename({'Age75+':'Age 75+'},axis='columns')\n",
    "LHB06=LHB06[['Hospital Provider', 'Finished Consultant Episodes', 'Admissions',\n",
    "       'Male', 'Female', 'Emergency', 'Waiting list', 'Mean Waiting Time',\n",
    "       'Median Waiting Time', 'Mean Length of Stay', 'Median Length of Stay',\n",
    "       'Mean Age', 'Age 0-14', 'Age 15-59', 'Age 60-74', 'Age 75+',\n",
    "       'Inpatient', 'Daycase', 'Beddays']]\n",
    "LHB07 = LHB07.rename({'Age75+':'Age 75+'},axis='columns')\n",
    "LHB07=LHB07[['Hospital Provider', 'Finished Consultant Episodes', 'Admissions',\n",
    "       'Male', 'Female', 'Emergency', 'Waiting list', 'Mean Waiting Time',\n",
    "       'Median Waiting Time', 'Mean Length of Stay', 'Median Length of Stay',\n",
    "       'Mean Age', 'Age 0-14', 'Age 15-59', 'Age 60-74', 'Age 75+',\n",
    "       'Inpatient', 'Daycase', 'Beddays']]\n",
    "LHB08 = LHB08.rename({'Age75+':'Age 75+'},axis='columns')\n",
    "LHB08=LHB08[['Hospital Provider', 'Finished Consultant Episodes', 'Admissions',\n",
    "       'Male', 'Female', 'Emergency', 'Waiting list', 'Mean Waiting Time',\n",
    "       'Median Waiting Time', 'Mean Length of Stay', 'Median Length of Stay',\n",
    "       'Mean Age', 'Age 0-14', 'Age 15-59', 'Age 60-74', 'Age 75+',\n",
    "       'Inpatient', 'Daycase', 'Beddays']]"
   ]
  },
  {
   "cell_type": "code",
   "execution_count": 115,
   "metadata": {},
   "outputs": [],
   "source": [
    "LHB99 = LHB99.iloc[:15].drop(['Median Waiting Time','Median Length of Stay'],axis = 1)\n",
    "LHB00 = LHB00.iloc[:15].drop(['Median Waiting Time','Median Length of Stay'],axis = 1)\n",
    "LHB01 = LHB01.iloc[:15].drop(['Median Waiting Time','Median Length of Stay'],axis = 1)\n",
    "LHB02 = LHB02.iloc[:15].drop(['Median Waiting Time','Median Length of Stay'],axis = 1)\n",
    "LHB03 = LHB03.iloc[:15].drop(['Median Waiting Time','Median Length of Stay'],axis = 1)\n",
    "LHB04 = LHB04.iloc[:15].drop(['Median Waiting Time','Median Length of Stay'],axis = 1)\n",
    "LHB05 = LHB05.iloc[:15].drop(['Median Waiting Time','Median Length of Stay'],axis = 1)\n",
    "LHB06 = LHB06.iloc[1:16].drop(['Median Waiting Time','Median Length of Stay'],axis = 1)\n",
    "LHB07 = LHB07.iloc[1:16].drop(['Median Waiting Time','Median Length of Stay'],axis = 1)\n",
    "LHB08 = LHB08.iloc[1:11].drop(['Median Waiting Time','Median Length of Stay'],axis = 1)"
   ]
  },
  {
   "cell_type": "code",
   "execution_count": 116,
   "metadata": {},
   "outputs": [],
   "source": [
    "new_health_boards = {'Swansea Bay University Health Board': ['RVD - Bro Morgannwg NHS Trust','RVC - Swansea NHS Trust'], \n",
    "                     'Aneurin Bevan University Local Health Board': ['RVF - Gwent Healthcare NHS Trust '],\n",
    "                    'Betsi Cadwaladr University Local Health Board': ['RT9 - North East Wales NHS Trust','RT7 - North West Wales NHS Trust','RT8 - Conwy and Denbighshire NHS Trust'],\n",
    "                    'Cardiff and Vale University Local Health Board': ['RWM - Cardiff & Vale NHS Trust','RRS - North Glamorgan NHS Trust'],\n",
    "                    'Cwm Taf University Local Health Board': ['RVE - Pontypridd and Rhondda NHS Trust'],\n",
    "                    'Hywel Dda University Local Health Board': ['RVA - Carmarthenshire NHS Trust ','RKU - Ceredigion and Mid Wales NHS Trust','RR6 - Pembrokeshire and Derwen NHS Trust'],\n",
    "                    'Powys Teaching Local Health Board':['6C4 - Powys LHB']}"
   ]
  },
  {
   "cell_type": "code",
   "execution_count": 117,
   "metadata": {},
   "outputs": [],
   "source": [
    "def update_healthboards(df):\n",
    "    df.set_index('Hospital Provider', inplace = True)\n",
    "    \n",
    "    df.drop('RQF - Velindre NHS Trust', inplace = True)\n",
    "    \n",
    "    df['Mean Waiting Time'] = df['Mean Waiting Time'].astype(float)\n",
    "    df['Age 0-14'] = df['Age 0-14'].replace('-',0).astype(float)\n",
    "    df['Waiting List'] = df['Waiting List'].astype(float)\n",
    "    \n",
    "    \n",
    "    df_tosum = df[['Finished Consultant Episodes', 'Admissions',\n",
    "       'Male', 'Female', 'Emergency', 'Waiting List', 'Age 0-14', 'Age 15-59', 'Age 60-74', 'Age 75+',\n",
    "       'Inpatient', 'Daycase', 'Beddays']]\n",
    "    df_toavg = df[['Mean Waiting Time','Mean Length of Stay',\n",
    "       'Mean Age','Finished Consultant Episodes']]\n",
    "    \n",
    "    for health_board in new_health_boards:\n",
    "        df_tosum.loc[health_board] = df_tosum.loc[new_health_boards[health_board]].sum()\n",
    "    \n",
    "    df_tosum.loc['Total'] = df_tosum.loc['Total (All Welsh Trusts)']\n",
    "    df_tosum = df_tosum.iloc[-8:]\n",
    "    \n",
    "    for health_board in new_health_boards:\n",
    "        df_toavg.loc[health_board] = 0\n",
    "        for old_health_board in new_health_boards[health_board]:\n",
    "            df_toavg.loc[health_board] = df_toavg.loc[health_board] + df_toavg.loc[old_health_board]*df_toavg.loc[old_health_board]['Finished Consultant Episodes']\n",
    "        df_toavg.loc[health_board] = df_toavg.loc[health_board]/df.loc[new_health_boards[health_board]]['Finished Consultant Episodes'].sum()\n",
    "    \n",
    "    df_toavg.drop('Finished Consultant Episodes',axis=1,inplace=True)\n",
    "    df_toavg.loc['Total'] = df_toavg.loc['Total (All Welsh Trusts)']\n",
    "    df_toavg = df_toavg.iloc[-8:]\n",
    "    \n",
    "    df = pd.concat([df_tosum,df_toavg], axis = 1)\n",
    "    df = df.reset_index()\n",
    "    return df"
   ]
  },
  {
   "cell_type": "code",
   "execution_count": 118,
   "metadata": {},
   "outputs": [],
   "source": [
    "LHB06.rename({'Waiting list':'Waiting List'},axis = 1, inplace = True)\n",
    "LHB07.rename({'Waiting list':'Waiting List'},axis = 1, inplace = True)\n",
    "LHB08.rename({'Waiting list':'Waiting List'},axis = 1, inplace = True)"
   ]
  },
  {
   "cell_type": "code",
   "execution_count": 119,
   "metadata": {},
   "outputs": [
    {
     "name": "stderr",
     "output_type": "stream",
     "text": [
      "C:\\Users\\joel\\Anaconda3\\lib\\site-packages\\ipykernel_launcher.py:18: SettingWithCopyWarning: \n",
      "A value is trying to be set on a copy of a slice from a DataFrame\n",
      "\n",
      "See the caveats in the documentation: http://pandas.pydata.org/pandas-docs/stable/indexing.html#indexing-view-versus-copy\n",
      "C:\\Users\\joel\\Anaconda3\\lib\\site-packages\\ipykernel_launcher.py:20: SettingWithCopyWarning: \n",
      "A value is trying to be set on a copy of a slice from a DataFrame\n",
      "\n",
      "See the caveats in the documentation: http://pandas.pydata.org/pandas-docs/stable/indexing.html#indexing-view-versus-copy\n",
      "C:\\Users\\joel\\Anaconda3\\lib\\site-packages\\ipykernel_launcher.py:24: SettingWithCopyWarning: \n",
      "A value is trying to be set on a copy of a slice from a DataFrame\n",
      "\n",
      "See the caveats in the documentation: http://pandas.pydata.org/pandas-docs/stable/indexing.html#indexing-view-versus-copy\n",
      "C:\\Users\\joel\\Anaconda3\\lib\\site-packages\\pandas\\core\\indexing.py:189: SettingWithCopyWarning: \n",
      "A value is trying to be set on a copy of a slice from a DataFrame\n",
      "\n",
      "See the caveats in the documentation: http://pandas.pydata.org/pandas-docs/stable/indexing.html#indexing-view-versus-copy\n",
      "  self._setitem_with_indexer(indexer, value)\n",
      "C:\\Users\\joel\\Anaconda3\\lib\\site-packages\\ipykernel_launcher.py:26: SettingWithCopyWarning: \n",
      "A value is trying to be set on a copy of a slice from a DataFrame\n",
      "\n",
      "See the caveats in the documentation: http://pandas.pydata.org/pandas-docs/stable/indexing.html#indexing-view-versus-copy\n",
      "C:\\Users\\joel\\Anaconda3\\lib\\site-packages\\ipykernel_launcher.py:27: SettingWithCopyWarning: \n",
      "A value is trying to be set on a copy of a slice from a DataFrame\n",
      "\n",
      "See the caveats in the documentation: http://pandas.pydata.org/pandas-docs/stable/indexing.html#indexing-view-versus-copy\n",
      "C:\\Users\\joel\\Anaconda3\\lib\\site-packages\\pandas\\core\\frame.py:3697: SettingWithCopyWarning: \n",
      "A value is trying to be set on a copy of a slice from a DataFrame\n",
      "\n",
      "See the caveats in the documentation: http://pandas.pydata.org/pandas-docs/stable/indexing.html#indexing-view-versus-copy\n",
      "  errors=errors)\n",
      "C:\\Users\\joel\\Anaconda3\\lib\\site-packages\\ipykernel_launcher.py:30: SettingWithCopyWarning: \n",
      "A value is trying to be set on a copy of a slice from a DataFrame\n",
      "\n",
      "See the caveats in the documentation: http://pandas.pydata.org/pandas-docs/stable/indexing.html#indexing-view-versus-copy\n"
     ]
    }
   ],
   "source": [
    "LHB99_updated  = update_healthboards(LHB99)\n",
    "LHB00_updated  = update_healthboards(LHB00)\n",
    "LHB01_updated  = update_healthboards(LHB01)\n",
    "LHB02_updated  = update_healthboards(LHB02)\n",
    "LHB03_updated  = update_healthboards(LHB03)\n",
    "LHB04_updated  = update_healthboards(LHB04)\n",
    "LHB05_updated  = update_healthboards(LHB05)\n",
    "LHB06_updated  = update_healthboards(LHB06)\n",
    "LHB07_updated  = update_healthboards(LHB07)"
   ]
  },
  {
   "cell_type": "code",
   "execution_count": 120,
   "metadata": {},
   "outputs": [],
   "source": [
    "new_health_boards_08 = {'Swansea Bay University Health Board': ['RYM - Abertawe Bro Morgannwg University NHS Trust'],\n",
    " 'Aneurin Bevan University Local Health Board': ['RVF - Gwent Healthcare NHS Trust'],\n",
    " 'Betsi Cadwaladr University Local Health Board': ['RYP - North Wales NHS Trust',\n",
    "  'RT7 - North West Wales NHS Trust'],\n",
    " 'Cardiff and Vale University Local Health Board': ['RWM - Cardiff and Vale NHS Trust'],\n",
    " 'Cwm Taf University Local Health Board': ['RYL - Cwm Taf NHS Trust'],\n",
    " 'Hywel Dda University Local Health Board': ['RYN - Hywel Dda NHS Trust'],\n",
    " 'Powys Teaching Local Health Board': ['6C4 - Powys Teaching LHB']}"
   ]
  },
  {
   "cell_type": "code",
   "execution_count": 121,
   "metadata": {},
   "outputs": [],
   "source": [
    "def update_healthboards_08(df):\n",
    "    df.set_index('Hospital Provider', inplace = True)\n",
    "    \n",
    "    df.drop('RQF - Velindre NHS Trust', inplace = True)\n",
    "    \n",
    "    df['Mean Waiting Time'] = df['Mean Waiting Time'].astype(float)\n",
    "    df['Age 0-14'] = df['Age 0-14'].replace('-',0).astype(float)\n",
    "    df['Waiting List'] = df['Waiting List'].astype(float)\n",
    "    \n",
    "    df_tosum = df[['Finished Consultant Episodes', 'Admissions',\n",
    "       'Male', 'Female', 'Emergency', 'Waiting List', 'Age 0-14', 'Age 15-59', 'Age 60-74', 'Age 75+',\n",
    "       'Inpatient', 'Daycase', 'Beddays']]\n",
    "    df_toavg = df[['Mean Waiting Time','Mean Length of Stay',\n",
    "       'Mean Age','Finished Consultant Episodes']]\n",
    "    \n",
    "    for health_board in new_health_boards_08:\n",
    "        df_tosum.loc[health_board] = df_tosum.loc[new_health_boards_08[health_board]].sum()\n",
    "    \n",
    "    df_tosum.loc['Total'] = df_tosum.loc['Total (All Welsh Trusts)']\n",
    "    df_tosum = df_tosum.iloc[-8:]\n",
    "    \n",
    "    for health_board in new_health_boards_08:\n",
    "        df_toavg.loc[health_board] = 0\n",
    "        for old_health_board in new_health_boards_08[health_board]:\n",
    "            df_toavg.loc[health_board] = df_toavg.loc[health_board] + df_toavg.loc[old_health_board]*df_toavg.loc[old_health_board]['Finished Consultant Episodes']\n",
    "        df_toavg.loc[health_board] = df_toavg.loc[health_board]/df.loc[new_health_boards_08[health_board]]['Finished Consultant Episodes'].sum()\n",
    "    \n",
    "    df_toavg.drop('Finished Consultant Episodes',axis=1,inplace=True)\n",
    "    df_toavg.loc['Total'] = df_toavg.loc['Total (All Welsh Trusts)']\n",
    "    df_toavg = df_toavg.iloc[-8:]\n",
    "    \n",
    "    df = pd.concat([df_tosum,df_toavg], axis = 1).reset_index()\n",
    "    return df"
   ]
  },
  {
   "cell_type": "code",
   "execution_count": 122,
   "metadata": {},
   "outputs": [
    {
     "name": "stderr",
     "output_type": "stream",
     "text": [
      "C:\\Users\\joel\\Anaconda3\\lib\\site-packages\\ipykernel_launcher.py:17: SettingWithCopyWarning: \n",
      "A value is trying to be set on a copy of a slice from a DataFrame\n",
      "\n",
      "See the caveats in the documentation: http://pandas.pydata.org/pandas-docs/stable/indexing.html#indexing-view-versus-copy\n",
      "C:\\Users\\joel\\Anaconda3\\lib\\site-packages\\ipykernel_launcher.py:19: SettingWithCopyWarning: \n",
      "A value is trying to be set on a copy of a slice from a DataFrame\n",
      "\n",
      "See the caveats in the documentation: http://pandas.pydata.org/pandas-docs/stable/indexing.html#indexing-view-versus-copy\n",
      "C:\\Users\\joel\\Anaconda3\\lib\\site-packages\\ipykernel_launcher.py:23: SettingWithCopyWarning: \n",
      "A value is trying to be set on a copy of a slice from a DataFrame\n",
      "\n",
      "See the caveats in the documentation: http://pandas.pydata.org/pandas-docs/stable/indexing.html#indexing-view-versus-copy\n",
      "C:\\Users\\joel\\Anaconda3\\lib\\site-packages\\pandas\\core\\indexing.py:189: SettingWithCopyWarning: \n",
      "A value is trying to be set on a copy of a slice from a DataFrame\n",
      "\n",
      "See the caveats in the documentation: http://pandas.pydata.org/pandas-docs/stable/indexing.html#indexing-view-versus-copy\n",
      "  self._setitem_with_indexer(indexer, value)\n",
      "C:\\Users\\joel\\Anaconda3\\lib\\site-packages\\ipykernel_launcher.py:25: SettingWithCopyWarning: \n",
      "A value is trying to be set on a copy of a slice from a DataFrame\n",
      "\n",
      "See the caveats in the documentation: http://pandas.pydata.org/pandas-docs/stable/indexing.html#indexing-view-versus-copy\n",
      "C:\\Users\\joel\\Anaconda3\\lib\\site-packages\\ipykernel_launcher.py:26: SettingWithCopyWarning: \n",
      "A value is trying to be set on a copy of a slice from a DataFrame\n",
      "\n",
      "See the caveats in the documentation: http://pandas.pydata.org/pandas-docs/stable/indexing.html#indexing-view-versus-copy\n",
      "C:\\Users\\joel\\Anaconda3\\lib\\site-packages\\pandas\\core\\frame.py:3697: SettingWithCopyWarning: \n",
      "A value is trying to be set on a copy of a slice from a DataFrame\n",
      "\n",
      "See the caveats in the documentation: http://pandas.pydata.org/pandas-docs/stable/indexing.html#indexing-view-versus-copy\n",
      "  errors=errors)\n",
      "C:\\Users\\joel\\Anaconda3\\lib\\site-packages\\ipykernel_launcher.py:29: SettingWithCopyWarning: \n",
      "A value is trying to be set on a copy of a slice from a DataFrame\n",
      "\n",
      "See the caveats in the documentation: http://pandas.pydata.org/pandas-docs/stable/indexing.html#indexing-view-versus-copy\n"
     ]
    }
   ],
   "source": [
    "LHB08_updated = update_healthboards_08(LHB08)"
   ]
  },
  {
   "cell_type": "code",
   "execution_count": 125,
   "metadata": {},
   "outputs": [],
   "source": [
    "LHB99_updated['Year'] = '1999/2000'\n",
    "LHB00_updated['Year'] = '2000/2001'\n",
    "LHB01_updated['Year'] = '2001/2002'\n",
    "LHB02_updated['Year'] = '2002/2003'\n",
    "LHB03_updated['Year'] = '2003/2004'\n",
    "LHB04_updated['Year'] = '2004/2005'\n",
    "LHB05_updated['Year'] = '2005/2006'\n",
    "LHB06_updated['Year'] = '2006/2007'\n",
    "LHB07_updated['Year'] = '2007/2008'\n",
    "LHB08_updated['Year'] = '2008/2009'\n",
    "\n",
    "LHB99_updated['Period'] = 0\n",
    "LHB00_updated['Period'] = 1\n",
    "LHB01_updated['Period'] = 2\n",
    "LHB02_updated['Period'] = 3\n",
    "LHB03_updated['Period'] = 4\n",
    "LHB04_updated['Period'] = 5\n",
    "LHB05_updated['Period'] = 6\n",
    "LHB06_updated['Period'] = 7\n",
    "LHB07_updated['Period'] = 8\n",
    "LHB08_updated['Period'] = 9"
   ]
  },
  {
   "cell_type": "code",
   "execution_count": 128,
   "metadata": {},
   "outputs": [],
   "source": [
    "LHB_data_99_08 = pd.concat([LHB99_updated,\n",
    "                           LHB00_updated,\n",
    "                           LHB01_updated,\n",
    "                           LHB02_updated,\n",
    "                           LHB03_updated,\n",
    "                           LHB04_updated,\n",
    "                           LHB05_updated,\n",
    "                           LHB06_updated,\n",
    "                           LHB07_updated,\n",
    "                           LHB08_updated],sort=True).reset_index().drop('index',axis=1)"
   ]
  },
  {
   "cell_type": "markdown",
   "metadata": {},
   "source": [
    "# 2009 - 2018 data"
   ]
  },
  {
   "cell_type": "code",
   "execution_count": 2,
   "metadata": {},
   "outputs": [
    {
     "name": "stderr",
     "output_type": "stream",
     "text": [
      "C:\\Users\\joel\\Anaconda3\\lib\\site-packages\\IPython\\core\\interactiveshell.py:2785: DtypeWarning: Columns (0) have mixed types.Specify dtype option on import or set low_memory=False.\n",
      "  interactivity=interactivity, compiler=compiler, result=result)\n",
      "C:\\Users\\joel\\Anaconda3\\lib\\site-packages\\IPython\\core\\interactiveshell.py:2785: DtypeWarning: Columns (0,1,2,3,4,5,6,12,13,14,15,16,17,18) have mixed types.Specify dtype option on import or set low_memory=False.\n",
      "  interactivity=interactivity, compiler=compiler, result=result)\n"
     ]
    }
   ],
   "source": [
    "LHB09 = pd.read_csv('LHB09.csv')\n",
    "LHB10 = pd.read_csv('LHB10.csv')\n",
    "LHB11 = pd.read_csv('LHB11.csv')\n",
    "LHB12 = pd.read_csv('LHB12.csv')\n",
    "LHB13 = pd.read_csv('LHB13.csv')\n",
    "LHB14 = pd.read_csv('LHB14.csv')\n",
    "LHB15 = pd.read_csv('LHB15.csv')\n",
    "LHB16 = pd.read_csv('LHB16.csv')\n",
    "LHB17 = pd.read_csv('LHB17.csv')\n",
    "LHB18 = pd.read_csv('LHB18.csv')"
   ]
  },
  {
   "cell_type": "code",
   "execution_count": 132,
   "metadata": {},
   "outputs": [],
   "source": [
    "LHB09['Age 0-14'] = LHB09['Age 0-14'].fillna(0)\n",
    "LHB10['Age 0-14'] = LHB10['Age 0-14'].fillna(0)\n",
    "LHB11['Age 0-14'] = LHB11['Age 0-14'].fillna(0)\n",
    "LHB12['Age 0-14'] = LHB12['Age 0-14'].fillna(0)\n",
    "LHB13['Age 0-14'] = LHB13['Age 0-14'].fillna(0)\n",
    "LHB14['Age 0-14'] = LHB14['Age 0-14'].fillna(0)\n",
    "LHB15['Age 0-14'] = LHB15['Age 0-14'].fillna(0)\n",
    "LHB16['Age 0-14'] = LHB16['Age 0-14'].fillna(0)\n",
    "LHB17['Age 0-14'] = LHB17['Age 0-14'].fillna(0)\n",
    "LHB18['Age 0-14'] = LHB18['Age 0-14'].fillna(0)"
   ]
  },
  {
   "cell_type": "code",
   "execution_count": 133,
   "metadata": {},
   "outputs": [],
   "source": [
    "LHB09 = LHB09.loc[0:8].dropna(axis=1)\n",
    "LHB10 = LHB10.loc[0:8].dropna(axis=1)\n",
    "LHB11 = LHB11.loc[0:8].dropna(axis=1).replace(',','',regex=True)\n",
    "LHB12 = LHB12.replace(',','',regex=True)\n",
    "LHB13 = LHB13.replace(',','',regex=True)\n",
    "LHB14 = LHB14.replace(',','',regex=True)\n",
    "LHB15 = LHB15.replace(',','',regex=True)\n",
    "LHB17 = LHB17.replace(',','',regex=True)\n",
    "LHB18 = LHB18.loc[0:8].replace(',','',regex=True)"
   ]
  },
  {
   "cell_type": "code",
   "execution_count": 134,
   "metadata": {},
   "outputs": [
    {
     "data": {
      "text/plain": [
       "1    Abertawe Bro Morgannwg University Local Health...\n",
       "2                     Aneurin Bevan Local Health Board\n",
       "3        Betsi Cadwaladr University Local Health Board\n",
       "4       Cardiff and Vale University Local Health Board\n",
       "5                           Cwm Taf Local Health Board\n",
       "6                         Hywel Dda Local Health Board\n",
       "7                    Powys Teaching Local Health Board\n",
       "0                                       Total Episodes\n",
       "8                                   Velindre NHS Trust\n",
       "Name: LHB Provider, dtype: object"
      ]
     },
     "execution_count": 134,
     "metadata": {},
     "output_type": "execute_result"
    }
   ],
   "source": [
    "health_boards = LHB16['LHB Provider'].sort_values()\n",
    "health_boards"
   ]
  },
  {
   "cell_type": "code",
   "execution_count": 135,
   "metadata": {},
   "outputs": [],
   "source": [
    "LHB09[['Code','LHB']] = LHB09['Hospital Provider'].str.split('- ',expand= True)\n",
    "LHB09['LHB'] = LHB09.LHB.fillna('Total')"
   ]
  },
  {
   "cell_type": "code",
   "execution_count": 136,
   "metadata": {},
   "outputs": [],
   "source": [
    "LHB09 = LHB09.sort_values('LHB')\n",
    "LHB09['LHB Provider'] = health_boards\n",
    "LHB09 = LHB09.drop(columns=['Hospital Provider','Code','LHB'], axis = 'columns')"
   ]
  },
  {
   "cell_type": "code",
   "execution_count": 137,
   "metadata": {},
   "outputs": [],
   "source": [
    "LHB10[['Code','LHB']] = LHB10['Hospital Provider'].str.split('- ',expand= True)\n",
    "LHB10['LHB'] = LHB10.LHB.fillna('Total')\n",
    "LHB10 = LHB10.sort_values('LHB')\n",
    "LHB10['LHB Provider'] = health_boards\n",
    "LHB10 = LHB10.drop(columns=['Hospital Provider','Code','LHB'], axis = 'columns')"
   ]
  },
  {
   "cell_type": "code",
   "execution_count": 138,
   "metadata": {},
   "outputs": [],
   "source": [
    "LHB11[['Code','LHB']] = LHB11['Hospital Provider'].str.split('- ',expand= True)\n",
    "LHB11['LHB'] = LHB11.LHB.fillna('Total')\n",
    "LHB11 = LHB11.sort_values('LHB')\n",
    "LHB11['LHB Provider'] = health_boards\n",
    "LHB11 = LHB11.drop(columns=['Hospital Provider','Code','LHB'], axis = 'columns')"
   ]
  },
  {
   "cell_type": "code",
   "execution_count": 139,
   "metadata": {},
   "outputs": [],
   "source": [
    "float_columns = LHB11.columns.tolist()\n",
    "float_columns.remove('LHB Provider')"
   ]
  },
  {
   "cell_type": "code",
   "execution_count": 140,
   "metadata": {},
   "outputs": [],
   "source": [
    "LHB09[float_columns] = LHB09[float_columns].astype(float)\n",
    "LHB10[float_columns] = LHB10[float_columns].astype(float)\n",
    "LHB11[float_columns] = LHB11[float_columns].astype(float)\n",
    "LHB12[float_columns] = LHB12[float_columns].astype(float)\n",
    "LHB13[float_columns] = LHB13[float_columns].astype(float)\n",
    "LHB14[float_columns] = LHB14[float_columns].astype(float)\n",
    "LHB15[float_columns] = LHB15[float_columns].astype(float)\n",
    "LHB16[float_columns] = LHB16[float_columns].astype(float)\n",
    "LHB17[float_columns] = LHB17[float_columns].astype(float)\n",
    "LHB18[float_columns] = LHB18[float_columns].astype(float)"
   ]
  },
  {
   "cell_type": "code",
   "execution_count": 141,
   "metadata": {},
   "outputs": [],
   "source": [
    "LHB09['Year'] = '2009/2010'\n",
    "LHB10['Year'] = '2010/2011'\n",
    "LHB11['Year'] = '2011/2012'\n",
    "LHB12['Year'] = '2012/2013'\n",
    "LHB13['Year'] = '2013/2014'\n",
    "LHB14['Year'] = '2014/2015'\n",
    "LHB15['Year'] = '2015/2016'\n",
    "LHB16['Year'] = '2016/2017'\n",
    "LHB17['Year'] = '2017/2018'\n",
    "LHB18['Year'] = '2018/2019'\n",
    "\n",
    "LHB09['Period'] = 10\n",
    "LHB10['Period'] = 11\n",
    "LHB11['Period'] = 12\n",
    "LHB12['Period'] = 13\n",
    "LHB13['Period'] = 14\n",
    "LHB14['Period'] = 15\n",
    "LHB15['Period'] = 16\n",
    "LHB16['Period'] = 17\n",
    "LHB17['Period'] = 18\n",
    "LHB18['Period'] = 19"
   ]
  },
  {
   "cell_type": "code",
   "execution_count": 142,
   "metadata": {},
   "outputs": [],
   "source": [
    "LHB_data_09_18 = pd.concat([LHB09,LHB10,LHB11,LHB12,LHB13,LHB14,LHB15,LHB16,LHB17,LHB18],sort=True)"
   ]
  },
  {
   "cell_type": "code",
   "execution_count": 145,
   "metadata": {},
   "outputs": [
    {
     "data": {
      "text/plain": [
       "LHB Provider\n",
       "Aneurin Bevan University Local Health Board       10\n",
       "Betsi Cadwaladr University Local Health Board     10\n",
       "Cardiff and Vale University Local Health Board    10\n",
       "Cwm Taf LHB                                       10\n",
       "Hywel Dda University Local Health Board           10\n",
       "Powys Teaching Local Health Board                 10\n",
       "Swansea Bay University Health Board               10\n",
       "Total Episodes                                    10\n",
       "Velindre NHS Trust                                10\n",
       "dtype: int64"
      ]
     },
     "execution_count": 145,
     "metadata": {},
     "output_type": "execute_result"
    }
   ],
   "source": [
    "LHB_data_09_18.groupby('LHB Provider').size()"
   ]
  },
  {
   "cell_type": "code",
   "execution_count": 144,
   "metadata": {},
   "outputs": [],
   "source": [
    "LHB_data_09_18 = LHB_data_09_18.replace({'Abertawe Bro Morgannwg University Local Health Board': 'Swansea Bay University Health Board',\n",
    "                                         'Abertawe Bro Morgannwg University LHB': 'Swansea Bay University Health Board',\n",
    "                                   'Aneurin Bevan Local Health Board': 'Aneurin Bevan University Local Health Board',\n",
    "                                    'Cwm Taf Local Health Board':'Cwm Taf LHB', \n",
    "                                    'Cwm Taf University Local Health Board': 'Cwm Taf LHB',\n",
    "                                    'Hywel Dda Local Health Board': 'Hywel Dda University Local Health Board'}, regex = True)"
   ]
  },
  {
   "cell_type": "code",
   "execution_count": 146,
   "metadata": {},
   "outputs": [],
   "source": [
    "LHB_data_09_18 = LHB_data_09_18.sort_values(['LHB Provider', 'Period']).reset_index().drop('index', axis=1)"
   ]
  },
  {
   "cell_type": "code",
   "execution_count": 148,
   "metadata": {},
   "outputs": [],
   "source": [
    "LHB_data_09_18 = LHB_data_09_18.iloc[:-10]"
   ]
  },
  {
   "cell_type": "code",
   "execution_count": 149,
   "metadata": {},
   "outputs": [],
   "source": [
    "LHB_data_99_08 = LHB_data_99_08.replace({'Cwm Taf University Local Health Board':'Cwm Taf LHB'},regex= True)"
   ]
  },
  {
   "cell_type": "code",
   "execution_count": 150,
   "metadata": {},
   "outputs": [
    {
     "name": "stderr",
     "output_type": "stream",
     "text": [
      "C:\\Users\\joel\\Anaconda3\\lib\\site-packages\\pandas\\core\\frame.py:3697: SettingWithCopyWarning: \n",
      "A value is trying to be set on a copy of a slice from a DataFrame\n",
      "\n",
      "See the caveats in the documentation: http://pandas.pydata.org/pandas-docs/stable/indexing.html#indexing-view-versus-copy\n",
      "  errors=errors)\n"
     ]
    }
   ],
   "source": [
    "LHB_data_09_18.drop(['Median Length of Stay','Median Waiting Time'],axis=1,inplace=True)"
   ]
  },
  {
   "cell_type": "code",
   "execution_count": 151,
   "metadata": {},
   "outputs": [
    {
     "name": "stderr",
     "output_type": "stream",
     "text": [
      "C:\\Users\\joel\\Anaconda3\\lib\\site-packages\\pandas\\core\\frame.py:3798: SettingWithCopyWarning: \n",
      "A value is trying to be set on a copy of a slice from a DataFrame\n",
      "\n",
      "See the caveats in the documentation: http://pandas.pydata.org/pandas-docs/stable/indexing.html#indexing-view-versus-copy\n",
      "  method=method)\n"
     ]
    }
   ],
   "source": [
    "LHB_data_09_18.replace({'Total Episodes':'Total'},inplace=True)"
   ]
  },
  {
   "cell_type": "code",
   "execution_count": 164,
   "metadata": {},
   "outputs": [
    {
     "name": "stderr",
     "output_type": "stream",
     "text": [
      "C:\\Users\\joel\\Anaconda3\\lib\\site-packages\\pandas\\core\\frame.py:3781: SettingWithCopyWarning: \n",
      "A value is trying to be set on a copy of a slice from a DataFrame\n",
      "\n",
      "See the caveats in the documentation: http://pandas.pydata.org/pandas-docs/stable/indexing.html#indexing-view-versus-copy\n",
      "  return super(DataFrame, self).rename(**kwargs)\n"
     ]
    }
   ],
   "source": [
    "LHB_data_09_18.rename({'Waiting list':'Waiting List'},axis = 1, inplace = True)\n",
    "LHB_data_99_08.rename({'Hospital Provider':'LHB Provider'},axis = 1, inplace = True)"
   ]
  },
  {
   "cell_type": "code",
   "execution_count": 173,
   "metadata": {},
   "outputs": [
    {
     "name": "stderr",
     "output_type": "stream",
     "text": [
      "C:\\Users\\joel\\Anaconda3\\lib\\site-packages\\pandas\\core\\frame.py:3781: SettingWithCopyWarning: \n",
      "A value is trying to be set on a copy of a slice from a DataFrame\n",
      "\n",
      "See the caveats in the documentation: http://pandas.pydata.org/pandas-docs/stable/indexing.html#indexing-view-versus-copy\n",
      "  return super(DataFrame, self).rename(**kwargs)\n"
     ]
    }
   ],
   "source": [
    "LHB_data_09_18.rename({'Age75+': 'Age 75+'},axis=1,inplace=True)"
   ]
  },
  {
   "cell_type": "code",
   "execution_count": 175,
   "metadata": {},
   "outputs": [],
   "source": [
    "LHB_data_99_18 = pd.concat([LHB_data_09_18,LHB_data_99_08],sort=True)"
   ]
  },
  {
   "cell_type": "code",
   "execution_count": 185,
   "metadata": {},
   "outputs": [],
   "source": [
    "LHB_data_99_18.sort_values(['LHB Provider','Period'],inplace=True)"
   ]
  },
  {
   "cell_type": "code",
   "execution_count": 186,
   "metadata": {},
   "outputs": [],
   "source": [
    "LHB_data_99_18 = LHB_data_99_18.reset_index().drop('index',axis=1)"
   ]
  },
  {
   "cell_type": "markdown",
   "metadata": {},
   "source": [
    "# Population data"
   ]
  },
  {
   "cell_type": "code",
   "execution_count": 189,
   "metadata": {},
   "outputs": [],
   "source": [
    "import numpy as np\n",
    "\n",
    "pop99 = pd.read_csv('Local authority population 1999.csv')\n",
    "pop00 = pd.read_csv('Local authority population 2000.csv')\n",
    "pop01 = pd.read_csv('Local authority population 2001.csv')\n",
    "pop02 = pd.read_csv('Local authority population 2002.csv')\n",
    "pop03 = pd.read_csv('Local authority population 2003.csv')\n",
    "pop04 = pd.read_csv('Local authority population 2004.csv')\n",
    "pop05 = pd.read_csv('Local authority population 2005.csv')\n",
    "pop06 = pd.read_csv('Local authority population 2006.csv')\n",
    "pop07 = pd.read_csv('Local authority population 2007.csv')\n",
    "pop08 = pd.read_csv('Local authority population 2008.csv')\n",
    "\n",
    "pop09 = pd.read_csv('Local authority population 2009.csv')\n",
    "pop10 = pd.read_csv('Local authority population 2010.csv')\n",
    "pop11 = pd.read_csv('Local authority population 2011.csv')\n",
    "pop12 = pd.read_csv('Local authority population 2012.csv')\n",
    "pop13 = pd.read_csv('Local authority population 2013.csv')\n",
    "pop14 = pd.read_csv('Local authority population 2014.csv')\n",
    "pop15 = pd.read_csv('Local authority population 2015.csv')\n",
    "pop16 = pd.read_csv('Local authority population 2016.csv')\n",
    "pop17 = pd.read_csv('Local authority population 2017.csv')\n",
    "pop18 = pd.read_csv('Local authority population 2018.csv')"
   ]
  },
  {
   "cell_type": "code",
   "execution_count": 190,
   "metadata": {},
   "outputs": [],
   "source": [
    "health_boards = {'Swansea Bay University Health Board' : ['Swansea ','Neath Port Talbot '], \n",
    "                 'Betsi Cadwaladr University Local Health Board': ['Isle of Anglesey ','Gwynedd ','Conwy ','Denbighshire ',\n",
    "                                                                  'Flintshire ','Wrexham '],\n",
    "                'Powys Teaching Local Health Board' : ['Powys '],\n",
    "                'Hywel Dda University Local Health Board': ['Ceredigion ', 'Pembrokeshire ', 'Carmarthenshire '],\n",
    "                'Cardiff and Vale University Local Health Board': ['Vale of Glamorgan ', 'Cardiff '],\n",
    "                'Cwm Taf University Local Health Board': ['Rhondda Cynon Taf ', 'Merthyr Tydfil ', 'Bridgend '],\n",
    "                'Aneurin Bevan University Local Health Board': ['Caerphilly ','Blaenau Gwent ','Torfaen ',\n",
    "                                                                'Monmouthsire ','Newport ','Monmouthshire ']}"
   ]
  },
  {
   "cell_type": "code",
   "execution_count": 191,
   "metadata": {},
   "outputs": [],
   "source": [
    "def clean_df(df, year, period):\n",
    "    df = df.drop(df.columns[0:3], axis='columns')\n",
    "    #Removes first 3 columns (up to column with local authorities)\n",
    "    df = df.drop([0,1])\n",
    "    #Removes top 2 rows (up to row containing specific ages)\n",
    "    df_ages = df.loc[:, ~(df == '.').any()]\n",
    "    #Removes columns without an entry in the row with ages.\n",
    "    #entries of '.' come from a column that sums a group of ages\n",
    "    df_ages.columns = df_ages.iloc[0]\n",
    "    #Sets the column headers to the age\n",
    "    df_ages.rename(columns={np.nan: 'Local Authority'}, inplace='True')\n",
    "    #Local authority column was left with nan as the title so this renames the column\n",
    "    df_clean = df_ages.drop([2,3])\n",
    "    #This removes the row which contains ages(now column headers) and the row with the totals\n",
    "    df_clean = df_clean.reset_index().drop('index',axis='columns')\n",
    "    #Resets index and removes old index\n",
    "    df_clean[df_clean.columns[1:]] = df_clean[df_clean.columns[1:]].astype(int)\n",
    "    #Sets all but the first columns datatypes as integers\n",
    "    df_clean['Population 0-14'] = df_clean.iloc[:, 1:16].sum(axis=1)\n",
    "    df_clean['Population 15-59'] = df_clean.iloc[:, 16:61].sum(axis=1)\n",
    "    df_clean['Population 60-74'] = df_clean.iloc[:, 61:76].sum(axis=1)\n",
    "    df_clean['Population 75+'] = df_clean.iloc[:, 76:-3].sum(axis=1)\n",
    "    df_clean['Population Total'] = df_clean.iloc[:, -4:].sum(axis=1)\n",
    "    #Creates columns that sum population from age ranges\n",
    "    df_grouped = df_clean[['Local Authority','Population 0-14','Population 15-59','Population 60-74','Population 75+','Population Total']]\n",
    "    #Creates a new dataframe that contains only the grouped columns\n",
    "    \n",
    "    df_grouped.set_index('Local Authority', inplace=True)\n",
    "    #Sets Local Authority column as index so this is not included in sum\n",
    "    df_grouped2 = df_grouped.append((df_grouped.sum().rename('Total')))\n",
    "    #Adds another row to the dataframe which is the sum of the previous rows\n",
    "    \n",
    "    for health_board in health_boards:\n",
    "        df_grouped2.loc[health_board] = df_grouped2.loc[health_boards[health_board]].sum()\n",
    "    #Uses health board dict which maps each health board to the local authorities within that health board\n",
    "    #Sums population from those areas to get population for that health board\n",
    "    \n",
    "    hb_df = df_grouped2.iloc[-8:]\n",
    "    #Creates new df that is the last 8 rows of previous dataframe (Just rows that on health boards and total)\n",
    "    hb_df = hb_df.reset_index()\n",
    "    hb_df = hb_df.rename({'Local Authority':'LHB Provider'},axis = 'columns')\n",
    "    #Puts health boards back as a column and renames them to same name as column in dataframes on admissions\n",
    "    hb_df['Year'] = year\n",
    "    hb_df['Period'] = period\n",
    "    #Adds a column to show year.\n",
    "    \n",
    "    return hb_df"
   ]
  },
  {
   "cell_type": "code",
   "execution_count": 192,
   "metadata": {},
   "outputs": [],
   "source": [
    "pop99.drop(['Unnamed: 98','Unnamed: 99','Unnamed: 100','Unnamed: 101','Unnamed: 102','Unnamed: 103'],axis=1,inplace = True)\n",
    "pop00.drop(['Unnamed: 98','Unnamed: 99','Unnamed: 100','Unnamed: 101','Unnamed: 102','Unnamed: 103'],axis=1,inplace = True)"
   ]
  },
  {
   "cell_type": "code",
   "execution_count": 194,
   "metadata": {},
   "outputs": [
    {
     "name": "stderr",
     "output_type": "stream",
     "text": [
      "C:\\Users\\joel\\Anaconda3\\lib\\site-packages\\pandas\\core\\frame.py:3781: SettingWithCopyWarning: \n",
      "A value is trying to be set on a copy of a slice from a DataFrame\n",
      "\n",
      "See the caveats in the documentation: http://pandas.pydata.org/pandas-docs/stable/indexing.html#indexing-view-versus-copy\n",
      "  return super(DataFrame, self).rename(**kwargs)\n",
      "C:\\Users\\joel\\Anaconda3\\lib\\site-packages\\ipykernel_launcher.py:34: FutureWarning: \n",
      "Passing list-likes to .loc or [] with any missing label will raise\n",
      "KeyError in the future, you can use .reindex() as an alternative.\n",
      "\n",
      "See the documentation here:\n",
      "https://pandas.pydata.org/pandas-docs/stable/indexing.html#deprecate-loc-reindex-listlike\n"
     ]
    }
   ],
   "source": [
    "clean99 = clean_df(pop99,1999,0)\n",
    "clean00 = clean_df(pop00,2000,1)\n",
    "clean01 = clean_df(pop01,2001,2)\n",
    "clean02 = clean_df(pop02,2002,3)\n",
    "clean03 = clean_df(pop03,2003,4)\n",
    "clean04 = clean_df(pop04,2004,5)\n",
    "clean05 = clean_df(pop05,2005,6)\n",
    "clean06 = clean_df(pop06,2006,7)\n",
    "clean07 = clean_df(pop07,2007,8)\n",
    "clean08 = clean_df(pop08,2008,9)\n",
    "clean09 = clean_df(pop09,2009,10)\n",
    "clean10 = clean_df(pop10,2010,11)\n",
    "clean11 = clean_df(pop11,2011,12)\n",
    "clean12 = clean_df(pop12,2012,13)\n",
    "clean13 = clean_df(pop13,2013,14)\n",
    "clean14 = clean_df(pop14,2014,15)\n",
    "clean15 = clean_df(pop15,2015,16)\n",
    "clean16 = clean_df(pop16,2016,17)\n",
    "clean17 = clean_df(pop17,2017,18)\n",
    "clean18 = clean_df(pop18,2018,19)"
   ]
  },
  {
   "cell_type": "code",
   "execution_count": 195,
   "metadata": {},
   "outputs": [],
   "source": [
    "populations_df = pd.concat([clean99,clean00,clean01,clean02,clean03,clean04,clean05,clean06,clean07,clean08,clean09,clean10,clean11,clean12,clean13,clean14,clean15,clean16,clean17,clean18],sort=True)"
   ]
  },
  {
   "cell_type": "code",
   "execution_count": 196,
   "metadata": {},
   "outputs": [],
   "source": [
    "populations_df = populations_df.sort_values(['LHB Provider','Year']).reset_index().drop('index',axis='columns')"
   ]
  },
  {
   "cell_type": "code",
   "execution_count": 197,
   "metadata": {},
   "outputs": [],
   "source": [
    "hb_pop_99_18 = populations_df"
   ]
  },
  {
   "cell_type": "code",
   "execution_count": 198,
   "metadata": {},
   "outputs": [],
   "source": [
    "hb_pop_99_18 = hb_pop_99_18.replace({'Cwm Taf University Local Health Board':'Cwm Taf LHB'},regex=True)"
   ]
  },
  {
   "cell_type": "code",
   "execution_count": 199,
   "metadata": {},
   "outputs": [],
   "source": [
    "hb_pop_99_18.drop('Year',axis=1,inplace=True)"
   ]
  },
  {
   "cell_type": "code",
   "execution_count": 201,
   "metadata": {},
   "outputs": [],
   "source": [
    "full_data_99_18 = pd.merge(LHB_data_99_18,hb_pop_99_18,on=['LHB Provider','Period'])"
   ]
  },
  {
   "cell_type": "code",
   "execution_count": 202,
   "metadata": {},
   "outputs": [],
   "source": [
    "df = full_data_99_18.sort_values('LHB Provider')"
   ]
  },
  {
   "cell_type": "code",
   "execution_count": 203,
   "metadata": {},
   "outputs": [],
   "source": [
    "df['Region'] = 'None'"
   ]
  },
  {
   "cell_type": "code",
   "execution_count": 204,
   "metadata": {},
   "outputs": [
    {
     "name": "stderr",
     "output_type": "stream",
     "text": [
      "C:\\Users\\joel\\Anaconda3\\lib\\site-packages\\pandas\\core\\indexing.py:189: SettingWithCopyWarning: \n",
      "A value is trying to be set on a copy of a slice from a DataFrame\n",
      "\n",
      "See the caveats in the documentation: http://pandas.pydata.org/pandas-docs/stable/indexing.html#indexing-view-versus-copy\n",
      "  self._setitem_with_indexer(indexer, value)\n"
     ]
    }
   ],
   "source": [
    "for i in range(0,160):\n",
    "    if df['LHB Provider'].iloc[i] in ['Aneurin Bevan University Local Health Board', 'Cardiff and Vale University Local Health Board',\n",
    "       'Cwm Taf LHB', 'Swansea Bay University Health Board']:\n",
    "        df['Region'].iloc[i] = 'South Wales'\n",
    "    elif df['LHB Provider'].iloc[i] == 'Total':\n",
    "        df['Region'].iloc[i] = 'Total'\n",
    "    else:\n",
    "        df['Region'].iloc[i] = 'Rest of Wales'"
   ]
  },
  {
   "cell_type": "code",
   "execution_count": 205,
   "metadata": {},
   "outputs": [],
   "source": [
    "df = df.rename({'Age 0-14': 'FCE 0-14', 'Age 15-59': 'FCE 15-59', 'Age 60-74': 'FCE 60-74', 'Age 75+': 'FCE 75+'},axis=1)"
   ]
  },
  {
   "cell_type": "code",
   "execution_count": 212,
   "metadata": {},
   "outputs": [
    {
     "name": "stdout",
     "output_type": "stream",
     "text": [
      "<class 'pandas.core.frame.DataFrame'>\n",
      "Int64Index: 160 entries, 0 to 159\n",
      "Data columns (total 25 columns):\n",
      "Admissions                      160 non-null float64\n",
      "FCE 0-14                        160 non-null float64\n",
      "FCE 15-59                       160 non-null float64\n",
      "FCE 60-74                       160 non-null float64\n",
      "FCE 75+                         160 non-null float64\n",
      "Beddays                         160 non-null float64\n",
      "Daycase                         160 non-null float64\n",
      "Emergency                       160 non-null float64\n",
      "Female                          160 non-null float64\n",
      "Finished Consultant Episodes    160 non-null float64\n",
      "Inpatient                       160 non-null float64\n",
      "LHB Provider                    160 non-null object\n",
      "Male                            160 non-null float64\n",
      "Mean Age                        160 non-null float64\n",
      "Mean Length of Stay             160 non-null float64\n",
      "Mean Waiting Time               160 non-null float64\n",
      "Period                          160 non-null int64\n",
      "Waiting List                    160 non-null float64\n",
      "Year                            160 non-null object\n",
      "Population 0-14                 160 non-null float64\n",
      "Population 15-59                160 non-null float64\n",
      "Population 60-74                160 non-null float64\n",
      "Population 75+                  160 non-null float64\n",
      "Population Total                160 non-null float64\n",
      "Region                          160 non-null object\n",
      "dtypes: float64(21), int64(1), object(3)\n",
      "memory usage: 32.5+ KB\n"
     ]
    }
   ],
   "source": [
    "df.info()"
   ]
  },
  {
   "cell_type": "code",
   "execution_count": 1,
   "metadata": {},
   "outputs": [
    {
     "ename": "NameError",
     "evalue": "name 'df' is not defined",
     "output_type": "error",
     "traceback": [
      "\u001b[1;31m---------------------------------------------------------------------------\u001b[0m",
      "\u001b[1;31mNameError\u001b[0m                                 Traceback (most recent call last)",
      "\u001b[1;32m<ipython-input-1-00cf07b74dcd>\u001b[0m in \u001b[0;36m<module>\u001b[1;34m()\u001b[0m\n\u001b[1;32m----> 1\u001b[1;33m \u001b[0mdf\u001b[0m\u001b[1;33m\u001b[0m\u001b[0m\n\u001b[0m",
      "\u001b[1;31mNameError\u001b[0m: name 'df' is not defined"
     ]
    }
   ],
   "source": []
  },
  {
   "cell_type": "code",
   "execution_count": 210,
   "metadata": {},
   "outputs": [],
   "source": [
    "df.to_csv(r'C:\\Users\\joel\\Desktop\\Final year project\\Data\\Full\\full_data_99_18.csv')"
   ]
  }
 ],
 "metadata": {
  "kernelspec": {
   "display_name": "Python 3",
   "language": "python",
   "name": "python3"
  },
  "language_info": {
   "codemirror_mode": {
    "name": "ipython",
    "version": 3
   },
   "file_extension": ".py",
   "mimetype": "text/x-python",
   "name": "python",
   "nbconvert_exporter": "python",
   "pygments_lexer": "ipython3",
   "version": "3.7.0"
  }
 },
 "nbformat": 4,
 "nbformat_minor": 2
}
